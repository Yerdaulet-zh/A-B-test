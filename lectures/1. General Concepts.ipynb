{
 "cells": [
  {
   "cell_type": "markdown",
   "id": "98d13cdf-b35e-468c-b660-f418e48e0c49",
   "metadata": {},
   "source": [
    "# Statistical Hypotheses: General concepts\n",
    "\n",
    "\n",
    "In practice, **hypothesis testing** is widely used in **data-driven decision-making** to **draw conclusions** about **new features or interventions** in complex systems based on **experimental evidence**.\n",
    "\n",
    "\n",
    "A **medical researcher** may make **decisions** based on **experimental data** collected from **two groups of cows**, to evaluate whether a new supplement added to their daily diet more **effectively reduces stress levels** in confined environments.\n",
    "\n",
    "\n",
    "An **AI engineer** may **decide to deploy** a **newly optimized model** to production **based on** **sample data**, if it shows an **improvement** in a specific **Key Performance Indicator (KPI)** on new data **compared to** **current model** in production.\n",
    "\n",
    "A **sociologist** might **collect data** to **determine** whether a person's **nose size** and **height** are **independent variables**.\n",
    "\n",
    "\n",
    "In all these cases, an **engineer** or **scientist** **postulates** about a **system**. In addition, each of them **must rely** on **experimental data** to make a **decision** based on the collected sample.\n",
    "\n",
    "In each case, the **conjecture** can take the form of a **statistical hypothesis**. The **procedure** that leads to its **acceptance or rejection** based on **sample data** lies at the **core of statistical inference**. \n",
    "\n",
    "<!-- Definition of statisitcal hypothesis:\n",
    "\n",
    "<em>A **statistical hypothesis** is an assertion or conjecture concerning one or more\n",
    "populations.</em> -->\n",
    "--- \n",
    "> **Definition (Statistical Hypothesis):**  \n",
    "> A statistical hypothesis is an assertion or conjecture concerning one or more populations.\n",
    "\n",
    "> **A simpler definition:**\n",
    "> A statistical hypothesis is a guess or assumption about a group or groups of data.\n",
    "--- \n",
    "\n",
    "**Conjecture**: An educated guess or suspicion based on observation — but not yet formally proven.\n",
    "\n",
    "A proposition that is proffered on a tentative basis without proof.\n",
    "\n",
    "In mathematics, a conjecture is a proposition that is proffered on a tentative basis without proof.\n",
    "\n",
    "---\n",
    "<!-- \n",
    "\n",
    "Postulates: suggest or assume the existence, fact, or truth of (something) as a basis for reasoning, discussion, or belief. \n",
    "\n",
    "In mathematics, a conjecture is a proposition that is proffered on a tentative basis without proof.\n",
    "-->"
   ]
  },
  {
   "cell_type": "markdown",
   "id": "61c617b2-c206-466b-93c3-75c279eab89c",
   "metadata": {},
   "source": [
    "**Hypothesis testing** is usually based on a **sample of data**, **not** the entire **population**. As a result, the **truth or falsity** of a hypothesis can **never be known** with **absolute certainty** — it would only be **possible** if we could **observe** the entire **population**. \n",
    "\n",
    "This does not mean that **hypothesis testing** is **ineffective** due to its **impracticality**. On the contrary, the **Law of Large Numbers (LLN)** ensures that, as we collect **more samples** from the **population**, the **estimates of population parameters** become increasingly **accurate and less uncertain**.\n",
    "\n",
    "Additionally, we rely on the **Central Limit Theorem (CLT)**, which states that the **sampling distribution** of the **sample mean** approaches a **normal distribution**, regardless of the **original population distribution**, provided the **sample size is sufficiently large**.\n",
    "\n",
    "Thanks to **LLN and CLT**, we can draw a **random sample** from the **population of interest**, minimizing **sampling bias**, and use the resulting data to **support or reject** the proposed **hypothesis** with **statistical evidence**.\n",
    "\n",
    "---"
   ]
  },
  {
   "cell_type": "markdown",
   "id": "d8289baf-8363-4b8a-9cd9-2854e9c261c4",
   "metadata": {},
   "source": [
    "# The Role of Probability in Hypothesis Testing\n",
    "\n",
    "**The decision process** of hypothesis testing **must include** an **awarenes** of the **<em>probability of a wrong conclution</em>**. \n",
    "\n",
    "As an example, **an engineer** postulated a hypothesis about the **defectiveness rate** of a **certain process**. The **hypothesized probability** of a **defective item** (binomial probability p) was **10%**. To test this, he **randomly selected 100 items** from the process output and **found** that **12 were defective**, suggesting an **observed defect rate of 12%**.\n",
    "\n",
    "It is **reasonable to conclude** that this experiment **does not refute** the **initial hypothesis**. The observed value **(12%) is close to the hypothesized value (10%)**, and the **sample size** is relatively **small**, which may result in **sampling variability** and may **not accurately** **represent** the **true population**.\n",
    "\n",
    "However, **this result does not confirm** that the true **defect rate is exactly 10%**. The actual **population proportion could be 9%, 12%, or even 15%**.\n",
    "\n",
    "In **hypothesis testing**, **rejecting the proposed hypothesis** means that the **sample data** provides **sufficient evidence against it**. However, **not rejecting** the **hypothesis** does not mean the **population parameter is exactly equal to the proposed value** (e.g., p=0.10).\n",
    "\n",
    "In other words, **it's possible** to **reject the null hypothesis** even if it **matches** the **true population value** — because the **sample data might still contradict it**. In such a case, the engineer may **reject a \"true\" hypothesis due to random variation in the sample**.\n",
    "\n",
    "---\n",
    "\n",
    "Why is the binomial distribution mentioned in the example? That’s because we are dealing with multiple independent Bernoulli trials (where \"success\" is a defective item, and otherwise it’s non-defective), which leads naturally to the binomial distribution.\n",
    "\n",
    "As a quick recap of the binomial data distribution, let's compute the probability of observing 20 defective items in a sample, assuming the process follows a Bernoulli population distribution with a defect probability of 10%.\n",
    "\n",
    "\n",
    "Thanks to the setup of multiple independent Bernoulli trials, where each trial has:\n",
    "- Success = defective item\n",
    "- Failure = non-defective item\n",
    "- Probability of success (defective): p=0.10\n",
    "- Number of trials: n=100\n",
    "\n",
    "We are gonna compute:\n",
    "\n",
    "P(X=20) where X ~ Binomial(n=100, p=0.10)\n",
    "\n",
    "This represents the probability of getting exactly 20 defective items from data sampled from a binomial distribution with 100 trials and a 10% probability of success.\n",
    "\n",
    "--- \n",
    "Binomial data distribution PMF (Probability Mass Function)\n",
    "\n",
    "$$\n",
    "P(X = k) = \\binom{n}{k} p^k (1 - p)^{n - k}\n",
    "$$\n",
    "\n",
    "Where:\n",
    "- $\\binom{n}{k} = \\frac{n!}{k!(n - k)!}$ is the binomial coefficient (number of ways to choose k successes from n trials)\n",
    "- $p^k$: probability of getting k successes (defectives)\n",
    "- $(1 - p)^{n - k}$: probability of getting n - k failures (non-defectives)"
   ]
  },
  {
   "cell_type": "code",
   "execution_count": 52,
   "id": "d37f8956-761e-4d63-8b6b-5b58886c1b94",
   "metadata": {},
   "outputs": [],
   "source": [
    "import math \n",
    "\n",
    "\n",
    "def binomial_coefficient(n: int, k: int) -> int:\n",
    "    return math.factorial(n) / ( math.factorial(k) * math.factorial( (n-k) ) ) \n",
    "\n",
    "\n",
    "def binomial_probability(n: int, k: int, p: float) -> float:\n",
    "    \"\"\"Probability of getting exactly k successes\"\"\"\n",
    "    return binomial_coefficient(n, k) * (p ** k) * ((1 - p) ** (n - k))\n",
    "\n",
    "\n",
    "def cumulative_binomial_probability(n: int, k: int, p: float, tail: str = \"greater\") -> float:\n",
    "    \"\"\"\n",
    "    Cumulative probability: P(X >= k) or P(X <= k)\n",
    "    tail: 'greater' for P(X ≥ k), 'less' for P(X ≤ k)\n",
    "    \"\"\"\n",
    "    if tail == \"greater\":\n",
    "        return sum(binomial_probability(n, i, p) for i in range(k, n + 1))\n",
    "    elif tail == \"less\":\n",
    "        return sum(binomial_probability(n, i, p) for i in range(0, k + 1))\n",
    "    else:\n",
    "        raise ValueError(\"tail must be 'greater' or 'less'\")"
   ]
  },
  {
   "cell_type": "code",
   "execution_count": 58,
   "id": "d463f114-a9eb-4c83-889c-62a8351a0e4e",
   "metadata": {},
   "outputs": [
    {
     "name": "stdout",
     "output_type": "stream",
     "text": [
      "P(X == 20) where X ~ Binomial(n=100, p=0.1): 0.0011709869914049687\n"
     ]
    }
   ],
   "source": [
    "probability = binomial_probability(n=100, k=20, p=0.1)\n",
    "print(\"P(X == 20) where X ~ Binomial(n=100, p=0.1): {}\".format(probability))"
   ]
  },
  {
   "cell_type": "code",
   "execution_count": 59,
   "id": "2aa7cea2-5621-4e7a-8fb2-bfda2866bc10",
   "metadata": {},
   "outputs": [
    {
     "name": "stdout",
     "output_type": "stream",
     "text": [
      "P(X >= 20) where X ~ Binomial(n=100, p=0.1): 0.0019785608657712376\n"
     ]
    }
   ],
   "source": [
    "cumulative_probability = cumulative_binomial_probability(n=100, k=20, p=0.1)\n",
    "print(\"P(X >= 20) where X ~ Binomial(n=100, p=0.1): {}\".format(cumulative_probability))"
   ]
  },
  {
   "cell_type": "code",
   "execution_count": 45,
   "id": "0e140aa9-ba73-4e70-ad25-e19ea58f0ce1",
   "metadata": {},
   "outputs": [
    {
     "data": {
      "image/png": "[encoded data removed]",
      "text/plain": [
       "<Figure size 1000x600 with 1 Axes>"
      ]
     },
     "metadata": {},
     "output_type": "display_data"
    }
   ],
   "source": [
    "import seaborn as sns\n",
    "import matplotlib.pyplot as plt\n",
    "\n",
    "from scipy.stats import binom\n",
    "\n",
    "\n",
    "n = 100                               # number of trials\n",
    "p = 0.1                               # probability of success\n",
    "\n",
    "pmf = binom.pmf(x, n, p)\n",
    "\n",
    "plt.figure(figsize=(10, 6))\n",
    "sns.barplot(pmf, orient=\"v\")\n",
    "plt.title(f\"Probability of observing X successes from {n} independent Bernoulli trials (p={p})\")\n",
    "plt.ylabel(\"Probability\")\n",
    "plt.xlabel(\"Number of Successes\")\n",
    "plt.show()"
   ]
  },
  {
   "cell_type": "markdown",
   "id": "15f900d9-027e-4822-8606-fa098b8071c8",
   "metadata": {},
   "source": [
    "---\n",
    "\n",
    "In another example, the engineer collects **a random sample of 100 items** from the process and observes **20 defective** items. This is considered **evidence** for **rejecting the hypothesis**. But why?\n",
    "\n",
    "Suppose the engineer had **hypothesized** that the true **defect probability is p=0.10**. Under this assumption, the probability of **observing 20 or more defectives out of 100 items is approximately 0.002**, as we computed earlier.\n",
    "\n",
    "Such a **low probability** implies that if the true defect rate really were **10%**, it would be extremely **unlikely** to **observe 20 or more defectives** just due to random chance. Therefore, the data provides **strong evidence against the hypothesis $H_0$:p=0.10**.\n",
    "\n",
    "Given this **small risk (just 0.2%)** of **wrongly rejecting a true hypothesis**, it is considered **statistically safe to reject** the hypothesis in this case.\n",
    "\n",
    "---\n",
    "\n",
    "### The structure of hypothesis test as follows:\n",
    "1. Start by assuming **the null hypothesis is true**;\n",
    "2. You then assess whether the data is **unlikely under that assumtion**;\n",
    "3. If it is, you **reject the null** - and this gives **support** to the **alternative**.\n",
    "\n",
    "<em>**You never “prove” a hypothesis; you just reject the null with a controlled risk of being wrong.** </em>\n",
    "\n",
    "### When you need to support a claim, make it alternative.\n",
    "\n",
    "Suppose, you are a medical student who wants to show **coffe increases cancer risk**\n",
    "\n",
    "**Do not** make it as a null hypothesis, it is alternative. \n",
    "\n",
    "So, you state:\n",
    "\n",
    "<center>\n",
    "$H_0$: Coffee does NOT increase cancer risk\n",
    "</center>\n",
    "<center>\n",
    "$H_1$: Coffee DOES increase cancer risk\n",
    "</center>\n",
    "\n",
    "Why?\n",
    "\n",
    "Because:\n",
    "\n",
    "You can only reject $H_0$, not confirm $H_1$ directly.\n",
    "\n",
    "If you want to \"support\" a claim, you must **arrive at it by rejecting the opposite.**\n",
    "\n",
    "---"
   ]
  },
  {
   "cell_type": "markdown",
   "id": "d999594d-dbc2-483c-8120-bca788140f8f",
   "metadata": {},
   "source": [
    "# The Null and Alternative Hypotheses\n",
    "\n",
    "The structure of hypothesis testing will be formulated by the use of the term **null hypothesis**, which refers to anu hypothesis we wish to test and denoted by $H_0$. The rejection of $H_0$ leads to the acceptance of an **alternative hypothesis**, denoted by $H_1$. \n",
    "\n",
    "The alternative hypothesis $H_1$ usually represents the <em>question to be answered or the theory to be tested</em>. On the other hand, the null hypothesis $H_0$ nullifies or opposes $H_1$. \n",
    "\n",
    "In hypothesis testing the analyst comes in conclution by the two conclutions: \n",
    "\n",
    "<em>**reject**</em> **$H_0$** in favor of $H_1$ because of sufficient evidence in the data or\n",
    "\n",
    "<em>**fail to reject**</em> **$H_0$** because of insufficient evidence in the data.\n",
    "\n",
    "Note, that the conclusions do not involve a formal and literal “accept $H_0$.” The statement of $H_0$ often represented as \"status quo\" in opposition of new idea $H_1$. The **fail to reject $H_0$** represents the **proper conclution**\n",
    "\n",
    "In the binomial example above, we were concerned that the historical defective probability of 0.1 is may no longer be true. Indeed, the conjecture may be that p exceeds 0.1. We may then state:\n",
    "\n",
    "$H_0$: p = 0.1\n",
    "\n",
    "$H_1$: p > 0.1\n",
    "\n",
    "In the experiment above, where the Binomial distribution served as  population data distribution of a certain process output. The process in the first example has generated 12 defectives out of 100 independent observations, and under $H_0$: p = 0.1, the conclution is **<em>\"Fail to reject $H_0$\"</em>** because, these probaility values in the context of binomial distribution with p=0.1 are close to each other. We do not have a significance evidence from sample data to reject $H_0$. However, when the system has produced 20 defective items, then the conclution is **<em>\"Reject $H_0$\"</em>** in favor of $H_1$: p > 0.1. \n",
    "\n",
    "---\n",
    "\n",
    "The applications of hypothesis testing might be abundant in scientific and engineering work, if so, this illustration might fit into your mind.\n",
    "\n",
    "### A Jury Trial Dilemma: The Null and Alternative Hypotheses:\n",
    "\n",
    "$H_0$: defendant is innocent,\n",
    "\n",
    "$H_1$: defendant is guilty.\n",
    "\n",
    "The null hypothesis sttatus quo stands in opposition to $H_1$ and is maintained unless $H_1$ is supported by evidence **\"beyond a reasonable doubt\"**. However, **\"failure to reject $H_0$\"** in this case does not imply innocence, but the evidence which could support guiltiness of the defendant was insufficient to convict. So the jury does not neccessary accept $H_0$ but fails to reject $H_0$. **This means the defendant is not proven guilty — not necessarily innocent. The jury failed to reject the assumption of innocence.**"
   ]
  },
  {
   "cell_type": "code",
   "execution_count": null,
   "id": "2f7efe9d-7af1-4129-a9c9-9907ad4b2f81",
   "metadata": {},
   "outputs": [],
   "source": [
    " "
   ]
  },
  {
   "cell_type": "code",
   "execution_count": null,
   "id": "f5b5258a-d10b-4d1b-ab41-6ad463dfa3ca",
   "metadata": {},
   "outputs": [],
   "source": []
  }
 ],
 "metadata": {
  "kernelspec": {
   "display_name": "Python 3 (ipykernel)",
   "language": "python",
   "name": "python3"
  },
  "language_info": {
   "codemirror_mode": {
    "name": "ipython",
    "version": 3
   },
   "file_extension": ".py",
   "mimetype": "text/x-python",
   "name": "python",
   "nbconvert_exporter": "python",
   "pygments_lexer": "ipython3",
   "version": "3.12.3"
  }
 },
 "nbformat": 4,
 "nbformat_minor": 5
}
