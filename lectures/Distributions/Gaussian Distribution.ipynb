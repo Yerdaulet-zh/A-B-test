{
 "cells": [
  {
   "cell_type": "markdown",
   "id": "3b910d48-ab10-48b9-9bc5-f886adaf9778",
   "metadata": {},
   "source": [
    "### Gaussian Distribution \n",
    "\n",
    "The most iportatin continuous probability distribution in statistics is the **normal distribution**. The common *bell shaped* density plot belongs to it and which approximately **describes** many **phenomena** that occur in **nature, industry, and research**.\n",
    "\n",
    "For instance, *physical measurements* in areas such as **meterological experiments**, **rainfall studies**, and **measurements** of **manifactured parts** are often more tham adequately explained with a normal distribution. \n",
    "\n",
    "In 1733, Abraham DeMoivre developed the mathematical equation of the normal curve.\n",
    "It provided a basis from which much of the theory of inductive statistics (**inferential statistics**) is founded. \n",
    "\n",
    "The normal distribution is often referred to as the Gaussian distribution, in honor of Karl Friedrich Gauss (1777–1855), who also derived its equation from a study of errors in repeated measurements of the same quantity.\n",
    "\n",
    "$$\n",
    "f(x) = \\frac{1}{\\sigma \\sqrt{2\\pi}} \\; e^{ -\\frac{(x - \\mu)^2}{2\\sigma^2} }\n",
    "$$\n",
    "\n"
   ]
  },
  {
   "cell_type": "code",
   "execution_count": null,
   "id": "2ad2519e-c0c7-467c-b00c-22bd9743490c",
   "metadata": {},
   "outputs": [],
   "source": []
  },
  {
   "cell_type": "code",
   "execution_count": null,
   "id": "eb3b174f-b52c-4d1a-b315-2668aa20d04f",
   "metadata": {},
   "outputs": [],
   "source": []
  },
  {
   "cell_type": "code",
   "execution_count": null,
   "id": "797a0364-4816-479c-94b2-e3a6622132b1",
   "metadata": {},
   "outputs": [],
   "source": []
  },
  {
   "cell_type": "code",
   "execution_count": null,
   "id": "feeb15c2-509d-421f-b4bb-ea4f440ab248",
   "metadata": {},
   "outputs": [],
   "source": []
  },
  {
   "cell_type": "code",
   "execution_count": null,
   "id": "a25f2cc5-3224-4bc2-8f9d-f6e7d95960bb",
   "metadata": {},
   "outputs": [],
   "source": []
  },
  {
   "cell_type": "code",
   "execution_count": null,
   "id": "7882fdc5-3dde-4b5f-85a3-993f9751e6a9",
   "metadata": {},
   "outputs": [],
   "source": []
  },
  {
   "cell_type": "code",
   "execution_count": null,
   "id": "1ae2c316-7804-482d-923e-db5bb2897fc5",
   "metadata": {},
   "outputs": [],
   "source": []
  }
 ],
 "metadata": {
  "kernelspec": {
   "display_name": "Python 3 (ipykernel)",
   "language": "python",
   "name": "python3"
  },
  "language_info": {
   "codemirror_mode": {
    "name": "ipython",
    "version": 3
   },
   "file_extension": ".py",
   "mimetype": "text/x-python",
   "name": "python",
   "nbconvert_exporter": "python",
   "pygments_lexer": "ipython3",
   "version": "3.12.3"
  }
 },
 "nbformat": 4,
 "nbformat_minor": 5
}
